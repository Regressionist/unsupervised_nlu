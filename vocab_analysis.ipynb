{
 "cells": [
  {
   "cell_type": "code",
   "execution_count": 1,
   "metadata": {},
   "outputs": [],
   "source": [
    "from nltk.corpus import treebank, ptb\n",
    "from collections import Counter\n",
    "import nltk\n",
    "import pickle as pkl"
   ]
  },
  {
   "cell_type": "code",
   "execution_count": 3,
   "metadata": {},
   "outputs": [],
   "source": [
    "with open(\"/data/rj1408/ptb_wsj_pos/train.p\",\"rb\") as f:\n",
    "    traindict = pkl.load(f)\n",
    "with open(\"/data/rj1408/ptb_wsj_pos/val.p\",\"rb\") as f:\n",
    "    valdict = pkl.load(f)\n",
    "with open(\"/data/rj1408//ptb_wsj_pos/test.p\",\"rb\") as f:\n",
    "    testdict = pkl.load(f)"
   ]
  },
  {
   "cell_type": "code",
   "execution_count": 4,
   "metadata": {},
   "outputs": [],
   "source": [
    "#tag analysis\n",
    "with open('tagset.txt') as f:\n",
    "    alltags = f.read()\n",
    "\n",
    "alltags = list(map(lambda strline: strline.split('\\t')[1], alltags.split('\\n')))\n",
    "alltags = set(alltags)"
   ]
  },
  {
   "cell_type": "code",
   "execution_count": 5,
   "metadata": {},
   "outputs": [],
   "source": [
    "lis = traindict['tagged_words']\n",
    "tag_cntr = {}\n",
    "for tup in lis:\n",
    "    if tup[1] in alltags:\n",
    "        if tup[1] not in tag_cntr:\n",
    "            tag_cntr[tup[1]] = Counter()\n",
    "        tag_cntr[tup[1]][tup[0]] += 1"
   ]
  },
  {
   "cell_type": "code",
   "execution_count": 12,
   "metadata": {},
   "outputs": [
    {
     "data": {
      "text/plain": [
       "[('NNP', 11127),\n",
       " ('CD', 4597),\n",
       " ('NNS', 4872),\n",
       " ('JJ', 7958),\n",
       " ('MD', 27),\n",
       " ('VB', 2056),\n",
       " ('DT', 48),\n",
       " ('NN', 9149),\n",
       " ('IN', 187),\n",
       " ('VBZ', 1123),\n",
       " ('VBG', 1987),\n",
       " ('CC', 33),\n",
       " ('VBD', 1560),\n",
       " ('VBN', 2089),\n",
       " ('RB', 1283),\n",
       " ('TO', 4),\n",
       " ('PRP', 46),\n",
       " ('RBR', 51),\n",
       " ('WDT', 12),\n",
       " ('VBP', 975),\n",
       " ('RP', 35),\n",
       " ('PRP$', 15),\n",
       " ('JJS', 103),\n",
       " ('POS', 3),\n",
       " ('EX', 2),\n",
       " ('WP', 8),\n",
       " ('JJR', 151),\n",
       " ('WRB', 14),\n",
       " ('NNPS', 562),\n",
       " ('WP$', 1),\n",
       " ('PDT', 13),\n",
       " ('RBS', 8),\n",
       " ('FW', 101),\n",
       " ('UH', 39),\n",
       " ('SYM', 15),\n",
       " ('LS', 18)]"
      ]
     },
     "execution_count": 12,
     "metadata": {},
     "output_type": "execute_result"
    }
   ],
   "source": [
    "#vocab size for each tag\n",
    "[(tup[0], len(tup[1])) for tup in tag_cntr.items()]"
   ]
  },
  {
   "cell_type": "code",
   "execution_count": 6,
   "metadata": {},
   "outputs": [],
   "source": [
    "vocab_cntr = Counter([tup[0] for tup in  lis])"
   ]
  },
  {
   "cell_type": "code",
   "execution_count": 17,
   "metadata": {},
   "outputs": [
    {
     "data": {
      "text/plain": [
       "43813"
      ]
     },
     "execution_count": 17,
     "metadata": {},
     "output_type": "execute_result"
    }
   ],
   "source": [
    "len(vocab_cntr)"
   ]
  },
  {
   "cell_type": "code",
   "execution_count": 21,
   "metadata": {},
   "outputs": [
    {
     "data": {
      "text/plain": [
       "0.9921243360632146"
      ]
     },
     "execution_count": 21,
     "metadata": {},
     "output_type": "execute_result"
    }
   ],
   "source": [
    "#sent len analysis\n",
    "sentlens = Counter([len(sent) for sent in traindict['tagged_sents']]).most_common()\n",
    "\n",
    "num = sum([tup[1] for tup in sentlens if tup[0] <= 60])\n",
    "den = len(traindict['tagged_sents'])\n",
    "num/den"
   ]
  },
  {
   "cell_type": "code",
   "execution_count": 23,
   "metadata": {},
   "outputs": [],
   "source": [
    "def getPercentile(voc_cntr, topk):\n",
    "    totalsize = sum([tup[1] for tup in voc_cntr.items()])\n",
    "    topksize = sum([tup[1] for tup in voc_cntr.most_common(topk)])\n",
    "    return topksize/totalsize"
   ]
  },
  {
   "cell_type": "code",
   "execution_count": 26,
   "metadata": {},
   "outputs": [
    {
     "data": {
      "text/plain": [
       "0.9592498465492572"
      ]
     },
     "execution_count": 26,
     "metadata": {},
     "output_type": "execute_result"
    }
   ],
   "source": [
    "getPercentile(vocab_cntr, 15000)"
   ]
  }
 ],
 "metadata": {
  "kernelspec": {
   "display_name": "Python 3",
   "language": "python",
   "name": "python3"
  },
  "language_info": {
   "codemirror_mode": {
    "name": "ipython",
    "version": 3
   },
   "file_extension": ".py",
   "mimetype": "text/x-python",
   "name": "python",
   "nbconvert_exporter": "python",
   "pygments_lexer": "ipython3",
   "version": "3.7.3"
  }
 },
 "nbformat": 4,
 "nbformat_minor": 4
}
