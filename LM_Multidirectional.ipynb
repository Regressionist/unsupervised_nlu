{
 "cells": [
  {
   "cell_type": "code",
   "execution_count": 6,
   "metadata": {},
   "outputs": [],
   "source": [
    "import numpy as np\n",
    "import torch\n",
    "import torch.nn as nn\n",
    "import torch.nn.functional as F\n",
    "import torch.optim as optim\n",
    "import pickle as pkl\n",
    "from collections import defaultdict,deque,Counter,OrderedDict\n",
    "import torch.backends.cudnn as cudnn\n",
    "from torch.utils.data import DataLoader, Dataset\n",
    "from torch.optim import lr_scheduler\n",
    "import os\n",
    "import time\n",
    "import copy\n",
    "import random\n",
    "\n",
    "from models import LM_latent, LM_latent_type_rep\n",
    "from vocab import Vocabulary\n",
    "\n",
    "from evaluate import *"
   ]
  },
  {
   "cell_type": "code",
   "execution_count": 7,
   "metadata": {},
   "outputs": [],
   "source": [
    "torch.manual_seed(9090)\n",
    "cudnn.benchmark = True\n",
    "    \n",
    "num_gpus = torch.cuda.device_count()\n",
    "if num_gpus > 0:\n",
    "    device = 'cuda'\n",
    "else:\n",
    "    device = 'cpu'"
   ]
  },
  {
   "cell_type": "code",
   "execution_count": 19,
   "metadata": {},
   "outputs": [],
   "source": [
    "test_pickle_file = '/misc/vlgscratch4/BrunaGroup/rj1408/nlu/ptb_wsj_pos/test.p'\n",
    "model_left_to_right = '/misc/vlgscratch4/BrunaGroup/rj1408/nlu/ptb_wsj_pos/models/base_lstm_defpar/a/'\n",
    "model_right_to_left = '/misc/vlgscratch4/BrunaGroup/rj1408/nlu/ptb_wsj_pos/models/base_lstm_defpar_reverse/a/'\n",
    "\n",
    "with open(test_pickle_file,\"rb\") as a:\n",
    "    testdict = pkl.load(a)\n",
    "\n",
    "#Load forward model\n",
    "forward_model_params = torch.load(os.path.join(model_left_to_right, 'net_epoch_0.pth'), map_location=device)\n",
    "forward_model_weights = torch.load(os.path.join(model_left_to_right, 'net_best_weights.pth'), map_location=device)\n",
    "tag2id = forward_model_params[\"hyperparams\"][\"tagtoid\"]\n",
    "id2tag = defaultdict(str)\n",
    "for tag in tag2id:\n",
    "    id2tag[tag2id[tag]] = tag\n",
    "vocab = forward_model_params[\"hyperparams\"][\"vocab\"]\n",
    "hidden_size = forward_model_params[\"hyperparams\"][\"hidden_size\"]\n",
    "tok_emb_size = forward_model_params[\"hyperparams\"][\"token_embedding\"]\n",
    "tag_emb_size = forward_model_params[\"hyperparams\"][\"tag_emb_size\"]\n",
    "lstm_layers = forward_model_params[\"hyperparams\"][\"lstmLayers\"]\n",
    "dropout_p =  0.1\n",
    "\n",
    "tag_wise_vocabsize = dict([(tag2id[tup[0]], tup[1][2]) for tup in vocab.tag_specific_vocab.items()])\n",
    "forward_model = LM_latent(vocab.vocab_size, tag_wise_vocabsize, hidden_size, tok_emb_size, tag_emb_size, lstm_layers, dropout_p)\n",
    "forward_model.load_state_dict(forward_model_weights)\n",
    "forward_model = forward_model.to(device)\n",
    "\n",
    "#Load backward model\n",
    "backward_model_params = torch.load(os.path.join(model_right_to_left, 'net_best_weights.pth'), map_location=device)\n",
    "tag2id = backward_model_params[\"hyperparams\"][\"tagtoid\"]\n",
    "id2tag = defaultdict(str)\n",
    "for tag in tag2id:\n",
    "    id2tag[tag2id[tag]] = tag\n",
    "vocab = backward_model_params[\"hyperparams\"][\"vocab\"]\n",
    "hidden_size = backward_model_params[\"hyperparams\"][\"hidden_size\"]\n",
    "tok_emb_size = backward_model_params[\"hyperparams\"][\"token_embedding\"]\n",
    "tag_emb_size = backward_model_params[\"hyperparams\"][\"tag_emb_size\"]\n",
    "lstm_layers = backward_model_params[\"hyperparams\"][\"lstmLayers\"]\n",
    "dropout_p =  0.1\n",
    "\n",
    "tag_wise_vocabsize = dict([(tag2id[tup[0]], tup[1][2]) for tup in vocab.tag_specific_vocab.items()])\n",
    "backward_model = LM_latent(vocab.vocab_size, tag_wise_vocabsize, hidden_size, tok_emb_size, tag_emb_size, lstm_layers, dropout_p)\n",
    "backward_model.load_state_dict(backward_model_params[\"model_state_dict\"])\n",
    "backward_model = backward_model.to(device)"
   ]
  },
  {
   "cell_type": "code",
   "execution_count": 20,
   "metadata": {},
   "outputs": [],
   "source": [
    "UNKNOWN_TAG = tag2id['UNKNOWN']\n",
    "PAD_TAG_ID = -51"
   ]
  },
  {
   "cell_type": "code",
   "execution_count": null,
   "metadata": {},
   "outputs": [],
   "source": []
  }
 ],
 "metadata": {
  "kernelspec": {
   "display_name": "Python 3",
   "language": "python",
   "name": "python3"
  },
  "language_info": {
   "codemirror_mode": {
    "name": "ipython",
    "version": 3
   },
   "file_extension": ".py",
   "mimetype": "text/x-python",
   "name": "python",
   "nbconvert_exporter": "python",
   "pygments_lexer": "ipython3",
   "version": "3.7.3"
  }
 },
 "nbformat": 4,
 "nbformat_minor": 4
}
